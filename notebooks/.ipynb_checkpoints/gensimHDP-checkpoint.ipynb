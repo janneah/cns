{
 "cells": [
  {
   "cell_type": "code",
   "execution_count": 1,
   "id": "0077125d-c0c8-4bdb-91e3-a6e11fde416d",
   "metadata": {},
   "outputs": [],
   "source": [
    "import pandas as pd\n",
    "from gensim.models import HdpModel\n",
    "from gensim import corpora\n",
    "import argparse"
   ]
  },
  {
   "cell_type": "code",
   "execution_count": 6,
   "id": "d9a997d0-89e9-4c84-b596-964a5e7a338f",
   "metadata": {},
   "outputs": [],
   "source": [
    "def topic_prob_extractor(gensim_hdp):\n",
    "    shown_topics = gensim_hdp.show_topics(num_topics=-1, formatted=False)\n",
    "    topics_nos = [x[0] for x in shown_topics ]\n",
    "    weights = [ sum([item[1] for item in shown_topics[topicN][1]]) for topicN in topics_nos ]\n",
    "\n",
    "    return pd.DataFrame({'topic_id' : topics_nos, 'weight' : weights})"
   ]
  },
  {
   "cell_type": "code",
   "execution_count": 2,
   "id": "867b545b-5533-4da6-a662-b6d708e3989e",
   "metadata": {},
   "outputs": [],
   "source": [
    "file = pd.read_table('~/cns/steps/discFeatures_10.txt', dtype=str)\n",
    "df = file.drop(['Sample', 'Chr'], axis = 1)\n",
    "listedDf = df.values.tolist()"
   ]
  },
  {
   "cell_type": "code",
   "execution_count": 3,
   "id": "38d34be3-f1b0-4f56-905c-f56f587ea8e9",
   "metadata": {},
   "outputs": [],
   "source": [
    "dirichlet_dict = corpora.Dictionary(listedDf)\n",
    "bow_corpus = [dirichlet_dict.doc2bow(text) for text in listedDf]"
   ]
  },
  {
   "cell_type": "code",
   "execution_count": 4,
   "id": "e510e8aa-f923-48ba-9f22-83c7db4f56bc",
   "metadata": {},
   "outputs": [],
   "source": [
    "hdp_model = HdpModel(corpus=bow_corpus, id2word=dirichlet_dict)"
   ]
  },
  {
   "cell_type": "code",
   "execution_count": 7,
   "id": "198ba582-d038-4ce0-8110-ff4731161a9e",
   "metadata": {},
   "outputs": [
    {
     "data": {
      "text/html": [
       "<div>\n",
       "<style scoped>\n",
       "    .dataframe tbody tr th:only-of-type {\n",
       "        vertical-align: middle;\n",
       "    }\n",
       "\n",
       "    .dataframe tbody tr th {\n",
       "        vertical-align: top;\n",
       "    }\n",
       "\n",
       "    .dataframe thead th {\n",
       "        text-align: right;\n",
       "    }\n",
       "</style>\n",
       "<table border=\"1\" class=\"dataframe\">\n",
       "  <thead>\n",
       "    <tr style=\"text-align: right;\">\n",
       "      <th></th>\n",
       "      <th>topic_id</th>\n",
       "      <th>weight</th>\n",
       "    </tr>\n",
       "  </thead>\n",
       "  <tbody>\n",
       "  </tbody>\n",
       "</table>\n",
       "</div>"
      ],
      "text/plain": [
       "Empty DataFrame\n",
       "Columns: [topic_id, weight]\n",
       "Index: []"
      ]
     },
     "execution_count": 7,
     "metadata": {},
     "output_type": "execute_result"
    }
   ],
   "source": [
    "topic_prob_extractor(hdp_model)"
   ]
  },
  {
   "cell_type": "code",
   "execution_count": 8,
   "id": "aa810002-2807-4880-9a68-d370d4ec2e25",
   "metadata": {},
   "outputs": [
    {
     "data": {
      "text/plain": [
       "[]"
      ]
     },
     "execution_count": 8,
     "metadata": {},
     "output_type": "execute_result"
    }
   ],
   "source": [
    "hdp_model.show_topics(num_topics=-1, formatted=False)"
   ]
  },
  {
   "cell_type": "code",
   "execution_count": null,
   "id": "278fe1ce-e87e-4f22-9eef-6ac6cf0f8fd9",
   "metadata": {},
   "outputs": [],
   "source": []
  }
 ],
 "metadata": {
  "kernelspec": {
   "display_name": "Python 3 (ipykernel)",
   "language": "python",
   "name": "python3"
  },
  "language_info": {
   "codemirror_mode": {
    "name": "ipython",
    "version": 3
   },
   "file_extension": ".py",
   "mimetype": "text/x-python",
   "name": "python",
   "nbconvert_exporter": "python",
   "pygments_lexer": "ipython3",
   "version": "3.8.12"
  }
 },
 "nbformat": 4,
 "nbformat_minor": 5
}
