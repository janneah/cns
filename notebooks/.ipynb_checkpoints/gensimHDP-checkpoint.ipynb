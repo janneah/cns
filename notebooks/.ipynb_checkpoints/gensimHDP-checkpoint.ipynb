{
 "cells": [
  {
   "cell_type": "code",
   "execution_count": 1,
   "id": "0077125d-c0c8-4bdb-91e3-a6e11fde416d",
   "metadata": {},
   "outputs": [],
   "source": [
    "import pandas as pd\n",
    "import numpy as np\n",
    "import seaborn as sns\n",
    "from gensim.models import HdpModel\n",
    "from gensim import corpora\n",
    "sns.set_theme(style=\"whitegrid\")"
   ]
  },
  {
   "cell_type": "code",
   "execution_count": 2,
   "id": "d9a997d0-89e9-4c84-b596-964a5e7a338f",
   "metadata": {},
   "outputs": [],
   "source": [
    "def topic_prob_extractor(gensim_hdp):\n",
    "    shown_topics = gensim_hdp.show_topics(num_topics=gensim_hdp.m_T, formatted=False)\n",
    "    topics_nos = [x[0] for x in shown_topics ]\n",
    "    # weights = [ sum([item[1] for item in shown_topics[topicN][1]]) for topicN in topics_nos ]\n",
    "    alpha = gensim_hdp.hdp_to_lda()[0];\n",
    "    return pd.DataFrame({'topic_id' : topics_nos, 'alpha' : alpha})"
   ]
  },
  {
   "cell_type": "code",
   "execution_count": 3,
   "id": "3d92148c-b8e9-495f-b113-cbc464ae59b7",
   "metadata": {},
   "outputs": [],
   "source": [
    "hdp_model = HdpModel.load('../steps/gensim/hdp_f10.model')"
   ]
  },
  {
   "cell_type": "code",
   "execution_count": 4,
   "id": "6a72390a-1130-4538-b871-d1ff3f665193",
   "metadata": {},
   "outputs": [
    {
     "data": {
      "text/plain": [
       "[(-0.5, 15.5)]"
      ]
     },
     "execution_count": 4,
     "metadata": {},
     "output_type": "execute_result"
    },
    {
     "data": {
      "image/png": "[encoded data removed]",
      "text/plain": [
       "<Figure size 432x288 with 1 Axes>"
      ]
     },
     "metadata": {},
     "output_type": "display_data"
    }
   ],
   "source": [
    "topic_prob_load = topic_prob_extractor(hdp_model)\n",
    "h = sns.barplot(x=\"topic_id\", y=\"alpha\", color=\"navy\", data=topic_prob_load)\n",
    "h.set(xlim=(-0.5, 15.5))"
   ]
  },
  {
   "cell_type": "code",
   "execution_count": 5,
   "id": "5fe6b199-af74-41cc-81fd-6be62b0538db",
   "metadata": {},
   "outputs": [
    {
     "data": {
      "text/plain": [
       "[('5', 0.2806658736845384),\n",
       " ('2', 0.22247584131001427),\n",
       " ('0', 0.17902142610272168)]"
      ]
     },
     "execution_count": 5,
     "metadata": {},
     "output_type": "execute_result"
    }
   ],
   "source": [
    "hdp_model.show_topic(4, topn=3, log=False, formatted=False, num_words=None)"
   ]
  },
  {
   "cell_type": "code",
   "execution_count": 10,
   "id": "d66c7a11-1e2e-41a7-8fbb-9e265e13c1a2",
   "metadata": {},
   "outputs": [
    {
     "data": {
      "text/plain": [
       "[(0,\n",
       "  [('1', 0.21756975953383395),\n",
       "   ('3', 0.18527311211066896),\n",
       "   ('5', 0.17673837075368995)]),\n",
       " (1,\n",
       "  [('6', 0.22337502798264947),\n",
       "   ('0', 0.2132580110050564),\n",
       "   ('4', 0.17635133334718203)]),\n",
       " (2,\n",
       "  [('1', 0.21810955731963344),\n",
       "   ('2', 0.19566381008876504),\n",
       "   ('0', 0.14737592852203787)]),\n",
       " (3,\n",
       "  [('6', 0.23979763359711265),\n",
       "   ('1', 0.18830964604142772),\n",
       "   ('2', 0.18632288285214885)]),\n",
       " (4,\n",
       "  [('5', 0.2806658736845384),\n",
       "   ('2', 0.22247584131001427),\n",
       "   ('0', 0.17902142610272168)]),\n",
       " (5,\n",
       "  [('3', 0.22512986751604486),\n",
       "   ('5', 0.19956092426228392),\n",
       "   ('1', 0.1908800788244537)]),\n",
       " (6,\n",
       "  [('2', 0.23602050700546426),\n",
       "   ('3', 0.22254484076402214),\n",
       "   ('0', 0.15959737360659904)]),\n",
       " (7,\n",
       "  [('0', 0.29488977799814653),\n",
       "   ('3', 0.19484425554213708),\n",
       "   ('4', 0.14284664933659794)]),\n",
       " (8,\n",
       "  [('2', 0.2832154451210378),\n",
       "   ('1', 0.24534127422423035),\n",
       "   ('5', 0.15029807619306898)]),\n",
       " (9,\n",
       "  [('5', 0.18430852139941645),\n",
       "   ('3', 0.17248931723179625),\n",
       "   ('0', 0.16701870672751082)])]"
      ]
     },
     "execution_count": 10,
     "metadata": {},
     "output_type": "execute_result"
    }
   ],
   "source": [
    "hdp_model.show_topics(num_topics=10, num_words=3, formatted=False)"
   ]
  },
  {
   "cell_type": "code",
   "execution_count": null,
   "id": "0e17aea0-dca0-4a2d-a358-d3f739de1412",
   "metadata": {},
   "outputs": [],
   "source": []
  }
 ],
 "metadata": {
  "kernelspec": {
   "display_name": "Python 3 (ipykernel)",
   "language": "python",
   "name": "python3"
  },
  "language_info": {
   "codemirror_mode": {
    "name": "ipython",
    "version": 3
   },
   "file_extension": ".py",
   "mimetype": "text/x-python",
   "name": "python",
   "nbconvert_exporter": "python",
   "pygments_lexer": "ipython3",
   "version": "3.8.12"
  }
 },
 "nbformat": 4,
 "nbformat_minor": 5
}
