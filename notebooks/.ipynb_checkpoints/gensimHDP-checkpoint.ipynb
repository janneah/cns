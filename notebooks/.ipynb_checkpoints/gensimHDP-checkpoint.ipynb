{
 "cells": [
  {
   "cell_type": "code",
   "execution_count": 1,
   "id": "0077125d-c0c8-4bdb-91e3-a6e11fde416d",
   "metadata": {},
   "outputs": [],
   "source": [
    "import pandas as pd\n",
    "import numpy as np\n",
    "import seaborn as sns\n",
    "from gensim.models import HdpModel\n",
    "from gensim import corpora\n",
    "sns.set_theme(style=\"whitegrid\")"
   ]
  },
  {
   "cell_type": "code",
   "execution_count": 23,
   "id": "d9a997d0-89e9-4c84-b596-964a5e7a338f",
   "metadata": {},
   "outputs": [],
   "source": [
    "def topic_prob_extractor(gensim_hdp):\n",
    "    shown_topics = gensim_hdp.show_topics(num_topics=gensim_hdp.m_T, formatted=False)\n",
    "    topics_nos = [x[0] for x in shown_topics ]\n",
    "    weights = [ sum([item[1] for item in shown_topics[topicN][1]]) for topicN in topics_nos ]\n",
    "    # alpha = gensim_hdp.hdp_to_lda()[0];\n",
    "    return pd.DataFrame({'topic_id' : topics_nos, 'weight' : weights})"
   ]
  },
  {
   "cell_type": "code",
   "execution_count": 3,
   "id": "867b545b-5533-4da6-a662-b6d708e3989e",
   "metadata": {},
   "outputs": [],
   "source": [
    "file = pd.read_table('~/cns/steps/discFeatures_10.txt', dtype=str)\n",
    "df = file.drop(['Sample', 'Chr'], axis = 1)\n",
    "listedDf = df.values.tolist()"
   ]
  },
  {
   "cell_type": "code",
   "execution_count": 4,
   "id": "38d34be3-f1b0-4f56-905c-f56f587ea8e9",
   "metadata": {},
   "outputs": [],
   "source": [
    "dirichlet_dict = corpora.Dictionary(listedDf)\n",
    "bow_corpus = [dirichlet_dict.doc2bow(text) for text in listedDf]"
   ]
  },
  {
   "cell_type": "code",
   "execution_count": 5,
   "id": "e510e8aa-f923-48ba-9f22-83c7db4f56bc",
   "metadata": {},
   "outputs": [],
   "source": [
    "hdp_model = HdpModel(corpus=bow_corpus, id2word=dirichlet_dict)"
   ]
  },
  {
   "cell_type": "code",
   "execution_count": 24,
   "id": "198ba582-d038-4ce0-8110-ff4731161a9e",
   "metadata": {},
   "outputs": [],
   "source": [
    "topic_prob = topic_prob_extractor(hdp_model)"
   ]
  },
  {
   "cell_type": "code",
   "execution_count": 25,
   "id": "3deeaaee-db1b-44ce-82cd-4b29cde6d8c7",
   "metadata": {},
   "outputs": [
    {
     "data": {
      "text/plain": [
       "[(1.0, 25.0)]"
      ]
     },
     "execution_count": 25,
     "metadata": {},
     "output_type": "execute_result"
    },
    {
     "data": {
      "image/png": "[encoded data removed]",
      "text/plain": [
       "<Figure size 432x288 with 1 Axes>"
      ]
     },
     "metadata": {},
     "output_type": "display_data"
    }
   ],
   "source": [
    "g = sns.barplot(x=\"topic_id\", y=\"weight\" , data=topic_prob)\n",
    "g.set(xlim=(1, 25))"
   ]
  },
  {
   "cell_type": "code",
   "execution_count": 18,
   "id": "aa810002-2807-4880-9a68-d370d4ec2e25",
   "metadata": {},
   "outputs": [
    {
     "data": {
      "text/plain": [
       "[(0, '0.366*6 + 0.169*3 + 0.153*5 + 0.104*4 + 0.085*1 + 0.079*2 + 0.044*0'),\n",
       " (1, '0.231*5 + 0.202*1 + 0.167*3 + 0.159*2 + 0.098*0 + 0.087*4 + 0.056*6'),\n",
       " (2, '0.190*1 + 0.187*5 + 0.166*2 + 0.124*4 + 0.123*6 + 0.117*0 + 0.092*3'),\n",
       " (3, '0.288*5 + 0.180*2 + 0.166*4 + 0.148*3 + 0.086*1 + 0.079*0 + 0.053*6'),\n",
       " (4, '0.228*3 + 0.210*5 + 0.132*6 + 0.123*0 + 0.120*1 + 0.110*2 + 0.078*4'),\n",
       " (5, '0.230*5 + 0.190*4 + 0.165*2 + 0.136*3 + 0.114*1 + 0.100*6 + 0.066*0'),\n",
       " (6, '0.224*5 + 0.170*3 + 0.155*6 + 0.131*1 + 0.128*2 + 0.108*0 + 0.083*4'),\n",
       " (7, '0.452*1 + 0.146*2 + 0.130*5 + 0.104*4 + 0.089*3 + 0.045*6 + 0.035*0'),\n",
       " (8, '0.191*2 + 0.187*1 + 0.153*0 + 0.139*5 + 0.123*4 + 0.104*6 + 0.104*3'),\n",
       " (9, '0.425*4 + 0.141*5 + 0.119*3 + 0.114*1 + 0.101*2 + 0.056*6 + 0.044*0'),\n",
       " (10, '0.264*1 + 0.206*2 + 0.159*5 + 0.114*3 + 0.111*4 + 0.086*0 + 0.059*6'),\n",
       " (11, '0.271*2 + 0.178*1 + 0.146*5 + 0.113*4 + 0.112*6 + 0.103*3 + 0.078*0'),\n",
       " (12, '0.308*2 + 0.213*5 + 0.135*4 + 0.098*3 + 0.097*6 + 0.080*0 + 0.070*1'),\n",
       " (13, '0.290*2 + 0.224*3 + 0.174*5 + 0.108*0 + 0.069*6 + 0.068*1 + 0.067*4'),\n",
       " (14, '0.226*5 + 0.197*3 + 0.174*1 + 0.158*4 + 0.096*2 + 0.087*6 + 0.062*0')]"
      ]
     },
     "execution_count": 18,
     "metadata": {},
     "output_type": "execute_result"
    }
   ],
   "source": [
    "topic_info = hdp_model.print_topics(num_topics=15, num_words=10)\n",
    "topic_info"
   ]
  },
  {
   "cell_type": "code",
   "execution_count": 28,
   "id": "278fe1ce-e87e-4f22-9eef-6ac6cf0f8fd9",
   "metadata": {},
   "outputs": [
    {
     "data": {
      "text/plain": [
       "[('3', 0.2277704111884252),\n",
       " ('5', 0.2099521368998896),\n",
       " ('6', 0.1316716791220199),\n",
       " ('0', 0.12266916449013815),\n",
       " ('1', 0.11975639437725412),\n",
       " ('2', 0.10972665582605999),\n",
       " ('4', 0.07845355809621299)]"
      ]
     },
     "execution_count": 28,
     "metadata": {},
     "output_type": "execute_result"
    }
   ],
   "source": [
    "hdp_model.show_topic(4, topn=20, log=False, formatted=False, num_words=None)"
   ]
  },
  {
   "cell_type": "code",
   "execution_count": 38,
   "id": "e529aa30-3075-4b65-a66b-a81fb12ade8d",
   "metadata": {},
   "outputs": [
    {
     "ename": "AttributeError",
     "evalue": "'NoneType' object has no attribute 'hdp_to_lda'",
     "output_type": "error",
     "traceback": [
      "\u001b[0;31m---------------------------------------------------------------------------\u001b[0m",
      "\u001b[0;31mAttributeError\u001b[0m                            Traceback (most recent call last)",
      "Input \u001b[0;32mIn [38]\u001b[0m, in \u001b[0;36m<cell line: 1>\u001b[0;34m()\u001b[0m\n\u001b[0;32m----> 1\u001b[0m alphavec \u001b[38;5;241m=\u001b[39m \u001b[43mhdp_model\u001b[49m\u001b[38;5;241;43m.\u001b[39;49m\u001b[43mhdp_to_lda\u001b[49m()[\u001b[38;5;241m0\u001b[39m]\n\u001b[1;32m      2\u001b[0m alpha \u001b[38;5;241m=\u001b[39m pd\u001b[38;5;241m.\u001b[39mDataFrame({\u001b[38;5;124m'\u001b[39m\u001b[38;5;124mtopic_id\u001b[39m\u001b[38;5;124m'\u001b[39m : \u001b[38;5;28mlist\u001b[39m(\u001b[38;5;28mrange\u001b[39m(\u001b[38;5;241m150\u001b[39m)), \u001b[38;5;124m'\u001b[39m\u001b[38;5;124malphavector\u001b[39m\u001b[38;5;124m'\u001b[39m : alphavec})\n\u001b[1;32m      3\u001b[0m h \u001b[38;5;241m=\u001b[39m sns\u001b[38;5;241m.\u001b[39mbarplot(x\u001b[38;5;241m=\u001b[39m\u001b[38;5;124m\"\u001b[39m\u001b[38;5;124mtopic_id\u001b[39m\u001b[38;5;124m\"\u001b[39m, y\u001b[38;5;241m=\u001b[39m\u001b[38;5;124m\"\u001b[39m\u001b[38;5;124malphavector\u001b[39m\u001b[38;5;124m\"\u001b[39m , data\u001b[38;5;241m=\u001b[39malpha)\n",
      "\u001b[0;31mAttributeError\u001b[0m: 'NoneType' object has no attribute 'hdp_to_lda'"
     ]
    }
   ],
   "source": [
    "alphavec = hdp_model.hdp_to_lda()[0]\n",
    "alpha = pd.DataFrame({'topic_id' : list(range(150)), 'alphavector' : alphavec})\n",
    "h = sns.barplot(x=\"topic_id\", y=\"alphavector\" , data=alpha)\n",
    "h.set(xlim=(1, 150))"
   ]
  }
 ],
 "metadata": {
  "kernelspec": {
   "display_name": "Python 3 (ipykernel)",
   "language": "python",
   "name": "python3"
  },
  "language_info": {
   "codemirror_mode": {
    "name": "ipython",
    "version": 3
   },
   "file_extension": ".py",
   "mimetype": "text/x-python",
   "name": "python",
   "nbconvert_exporter": "python",
   "pygments_lexer": "ipython3",
   "version": "3.8.12"
  }
 },
 "nbformat": 4,
 "nbformat_minor": 5
}
