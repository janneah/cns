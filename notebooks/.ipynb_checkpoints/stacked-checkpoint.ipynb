{
 "cells": [
  {
   "cell_type": "code",
   "execution_count": 1,
   "id": "383a9c46-3b7c-4055-9c62-f52b64462392",
   "metadata": {},
   "outputs": [],
   "source": [
    "import pandas as pd\n",
    "import numpy as np\n",
    "import seaborn as sns\n",
    "import matplotlib.pylab as plt\n",
    "from gensim.models import LdaModel, CoherenceModel\n",
    "from gensim import corpora"
   ]
  },
  {
   "cell_type": "code",
   "execution_count": null,
   "id": "b81d423f-6796-426f-ab20-5168281cb39d",
   "metadata": {},
   "outputs": [],
   "source": [
    "mutations = pd.read_table('../data/all_muts_pass_and_polyphen.txt', sep=' ')\n",
    "gene_exp = pd.read_table('../data/all_tcga_gene_exp.txt', sep=' ')\n",
    "maf = pd.read_table('../data/all_tcga_maf.txt', sep=' ')\n",
    "cin_loc = pd.read_table('../data/cin_locations.txt')\n",
    "sanchez_vega = pd.read_table('../data/sanchez_vega_pws_1026.csv', sep=';')"
   ]
  },
  {
   "cell_type": "code",
   "execution_count": null,
   "id": "8b5e2601-7d5a-4d0d-b07b-9ec838f7e592",
   "metadata": {},
   "outputs": [],
   "source": [
    "file = pd.read_table('../steps/discretized_9.features', dtype=str)"
   ]
  },
  {
   "cell_type": "code",
   "execution_count": null,
   "id": "2292624e-9111-4cbb-a86e-52e570017abf",
   "metadata": {},
   "outputs": [],
   "source": [
    "lda = LdaModel.load(f'../steps/gensim/lda/lda_t5_f10_sym.model')\n",
    "df = file.drop(['Sample', 'Chr'], axis = 1)\n",
    "listedDf = df.values.tolist()\n",
    "dirichlet_dict = corpora.Dictionary(listedDf)\n",
    "bow_corpus = [dirichlet_dict.doc2bow(text) for text in listedDf]"
   ]
  },
  {
   "cell_type": "code",
   "execution_count": null,
   "id": "3d0a7644-e807-43b8-8deb-9f2855595aa0",
   "metadata": {},
   "outputs": [],
   "source": [
    "def create_heatmap(model, df):\n",
    "    topics = lda.get_document_topics(bow = bow_corpus, minimum_probability = 0)\n",
    "    \n",
    "    new_df = pd.DataFrame(df['Sample'])\n",
    "    new_df['Chr'] = df['Chr']\n",
    "    new_df['Chr'] = pd.to_numeric(new_df['Chr'])\n",
    "    \n",
    "    columns = [[],[],[],[],[]]\n",
    "    for topic in topics:\n",
    "        for w in topic:\n",
    "            columns[w[0]].append(w[1])\n",
    "    \n",
    "    new_df['1'] = columns[0]\n",
    "    new_df['2'] = columns[1]\n",
    "    new_df['3'] = columns[2]\n",
    "    new_df['4'] = columns[3]\n",
    "    new_df['5'] = columns[4]\n",
    "    new_df = new_df.sort_values(by='Chr')\n",
    "    return new_df\n"
   ]
  },
  {
   "cell_type": "code",
   "execution_count": null,
   "id": "9835a662-1322-4592-84a1-d5931745d908",
   "metadata": {},
   "outputs": [],
   "source": [
    "weights_df = create_heatmap(lda, file)"
   ]
  },
  {
   "cell_type": "code",
   "execution_count": null,
   "id": "fc80ccc9-16a8-4d51-9fef-f239d535179b",
   "metadata": {},
   "outputs": [],
   "source": [
    "mut = weights_df.reset_index(drop=True)\n",
    "mut = mut.rename(columns = {'Sample': 'sampleID'})\n",
    "# mut= mut.drop_duplicates(subset = [\"sampleID\"])\n",
    "mut = pd.merge(left = mut, right = maf[['sampleID', 'mutatated_genes']], on='sampleID')\n",
    "\n",
    "gene_list = ['TP53', 'PTEN', 'NF1', 'MYC', 'CDK12', 'CCNE1', 'BRCA2', 'BRCA1']\n",
    "# gene_list = list(cin_loc['Gene'])\n",
    "\n",
    "for gene in gene_list:\n",
    "    mut[gene] = np.where(mut['mutatated_genes'].str.contains(gene), True, False)\n",
    "\n",
    "\n",
    "mut"
   ]
  }
 ],
 "metadata": {
  "kernelspec": {
   "display_name": "Python 3 (ipykernel)",
   "language": "python",
   "name": "python3"
  },
  "language_info": {
   "codemirror_mode": {
    "name": "ipython",
    "version": 3
   },
   "file_extension": ".py",
   "mimetype": "text/x-python",
   "name": "python",
   "nbconvert_exporter": "python",
   "pygments_lexer": "ipython3",
   "version": "3.10.4"
  }
 },
 "nbformat": 4,
 "nbformat_minor": 5
}
