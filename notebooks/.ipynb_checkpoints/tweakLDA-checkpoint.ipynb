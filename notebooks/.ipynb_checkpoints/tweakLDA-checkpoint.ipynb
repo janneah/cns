{
 "cells": [
  {
   "cell_type": "code",
   "execution_count": 2,
   "id": "4382ba02-d712-40a3-808c-a861e5381a9e",
   "metadata": {},
   "outputs": [],
   "source": [
    "import pandas as pd\n",
    "import numpy as np\n",
    "from gensim.models import LdaModel, CoherenceModel\n",
    "from gensim import corpora\n",
    "import seaborn as sns\n",
    "import matplotlib.pylab as plt\n",
    "from scipy.stats import pearsonr\n",
    "from matplotlib.colors import ListedColormap\n",
    "from scipy import stats as st\n",
    "import matplotlib.colors as mcolors"
   ]
  },
  {
   "cell_type": "code",
   "execution_count": 4,
   "id": "4c2ad60d-3824-4e43-b931-67580b577661",
   "metadata": {},
   "outputs": [],
   "source": [
    "file = pd.read_table('/home/janneae/cns/steps/discretized_9_6bins.features', dtype=str)\n",
    "survivaldata = pd.read_table('/home/janneae/TCGA/DerivedData/TCGA_survival_data_clean.txt')"
   ]
  },
  {
   "cell_type": "code",
   "execution_count": 5,
   "id": "b1a22b52-ef8c-45d7-8130-0d5c2269e2cf",
   "metadata": {},
   "outputs": [],
   "source": [
    "lda = LdaModel.load(f'../steps/gensim/lda/lda_t5_f10.model')\n",
    "df = file.drop(['Sample', 'Chr'], axis = 1)\n",
    "listedDf = df.values.tolist()\n",
    "dirichlet_dict = corpora.Dictionary(listedDf)\n",
    "bow_corpus = [dirichlet_dict.doc2bow(text) for text in listedDf]"
   ]
  },
  {
   "cell_type": "markdown",
   "id": "7ac46f6d-3742-48ef-a576-61fd635fbf7c",
   "metadata": {},
   "source": [
    "## Tweaking parameters of LDA analysis"
   ]
  },
  {
   "cell_type": "code",
   "execution_count": 10,
   "id": "83a08871-c8c1-4015-983e-470e38225ac3",
   "metadata": {
    "jupyter": {
     "source_hidden": true
    },
    "tags": []
   },
   "outputs": [],
   "source": [
    "def create_heatmap(model, df):\n",
    "    topics = lda.get_document_topics(bow = bow_corpus, minimum_probability = 0)\n",
    "    \n",
    "    new_df = pd.DataFrame(df['Sample'])\n",
    "    new_df['Chr'] = df['Chr']\n",
    "    new_df['Chr'] = pd.to_numeric(new_df['Chr'])\n",
    "    \n",
    "    columns = [[],[],[],[],[]]\n",
    "    for topic in topics:\n",
    "        for w in topic:\n",
    "            columns[w[0]].append(w[1])\n",
    "    \n",
    "    new_df['1'] = columns[0]\n",
    "    new_df['2'] = columns[1]\n",
    "    new_df['3'] = columns[2]\n",
    "    new_df['4'] = columns[3]\n",
    "    new_df['5'] = columns[4]\n",
    "    new_df = new_df.sort_values(by='Chr')\n",
    "    return new_df\n",
    "\n",
    "def correlate(cin, survival, val):\n",
    "    age = []\n",
    "    tel = []\n",
    "    lst = []\n",
    "    hrd = []\n",
    "    hrd_score = []\n",
    "    ploidy = []\n",
    "    wGII = []\n",
    "    wFLOH = []\n",
    "    \n",
    "    for i in range(1, 6):\n",
    "        age.append(pearsonr(survival[f'{i}'], survival['Age_at_diagnosis'])[val])\n",
    "        tel.append(pearsonr(cin[f'{i}'], cin['Telomeric.AI'])[val])\n",
    "        lst.append(pearsonr(cin[f'{i}'], cin['lst'])[val])\n",
    "        hrd.append(pearsonr(cin[f'{i}'], cin['hrd'])[val])\n",
    "        hrd_score.append(pearsonr(cin[f'{i}'], cin['hrd_score'])[val])\n",
    "        ploidy.append(pearsonr(cin[f'{i}'], cin['ploidy'])[val])\n",
    "        wGII.append(pearsonr(cin[f'{i}'], cin['wGII'])[val])\n",
    "        wFLOH.append(pearsonr(cin[f'{i}'], cin['wFLOH'])[val])\n",
    "    \n",
    "    corr_df = pd.DataFrame([1, 2, 3, 4, 5], columns=['Signature'])\n",
    "    corr_df['Age_at_diagnosis'] = age\n",
    "    corr_df['Telomeric.AI'] = tel\n",
    "    corr_df['LST'] = lst\n",
    "    corr_df['HRD'] = hrd\n",
    "    corr_df['HRD_score'] = hrd_score\n",
    "    corr_df['Ploidy'] = ploidy\n",
    "    corr_df['wGII'] = wGII\n",
    "    corr_df['wFLOH'] = wFLOH\n",
    "    \n",
    "    corr_df = corr_df.set_index('Signature')\n",
    "    corr_df = corr_df.transpose()\n",
    "    \n",
    "    return corr_df"
   ]
  },
  {
   "cell_type": "code",
   "execution_count": 7,
   "id": "fd77a508-20ed-4869-827c-e57895c1008a",
   "metadata": {},
   "outputs": [],
   "source": [
    "modelLDA = LdaModel(\n",
    "    corpus=bow_corpus,\n",
    "    id2word=dirichlet_dict,\n",
    "    num_topics=5,\n",
    "    chunksize=len(bow_corpus),\n",
    "    passes=10,\n",
    "    alpha='symmetric',\n",
    "    eta='auto',\n",
    "    decay=0.5,\n",
    "    iterations=5,\n",
    "    random_state=42)"
   ]
  },
  {
   "cell_type": "code",
   "execution_count": 8,
   "id": "224bb279-546a-434d-94f0-9bc9b8c1d713",
   "metadata": {},
   "outputs": [
    {
     "data": {
      "text/plain": [
       "0.3120759714436182"
      ]
     },
     "execution_count": 8,
     "metadata": {},
     "output_type": "execute_result"
    }
   ],
   "source": [
    "coherences = CoherenceModel(model=modelLDA, corpus=bow_corpus, texts = listedDf, dictionary=dirichlet_dict, coherence='c_v', topn = 50).get_coherence()\n",
    "coherences"
   ]
  },
  {
   "cell_type": "code",
   "execution_count": null,
   "id": "cd163c66-ec11-4725-9182-eeb7e756eda2",
   "metadata": {},
   "outputs": [],
   "source": [
    "weights_df = create_heatmap(modelLDA, file)\n",
    "weights_df = weights_df[weights_df['Chr'] != 23]\n",
    "\n",
    "combined_df = weights_df.reset_index()\n",
    "combined_df['Age_at_diagnosis'] = survivaldata['age_at_initial_pathologic_diagnosis']\n",
    "combined_df = combined_df.dropna()\n",
    "\n",
    "cin = pd.read_table(\"../data/all_tcga_cin_measures.txt\", sep=\" \").set_index('sample_id').reindex(index=weights_df['Sample']).reset_index()\n",
    "combined_cin = weights_df.reset_index()\n",
    "combined_cin['Telomeric.AI'] = cin['Telomeric.AI']\n",
    "combined_cin['lst'] = cin['lst']\n",
    "combined_cin['hrd'] = cin['hrd']\n",
    "combined_cin['wGII'] = cin['wGII']\n",
    "combined_cin['ploidy'] = cin['Ploidy']\n",
    "combined_cin['hrd_score'] = cin['lst'] + cin['Telomeric.AI'] + cin['hrd']\n",
    "combined_cin['wFLOH'] = cin['wFLOH']\n",
    "combined_cin = combined_cin.dropna()\n",
    "\n",
    "corr_df = correlate(combined_cin, combined_df, 0)\n",
    "pval_df = correlate(combined_cin, combined_df, 1)\n",
    "corr_df"
   ]
  },
  {
   "cell_type": "code",
   "execution_count": null,
   "id": "0ebbd428-55bf-48ec-9ef5-2063490fd395",
   "metadata": {},
   "outputs": [],
   "source": [
    "psig = 0.001/176000\n",
    "\n",
    "for i in range(1, 5):\n",
    "    for j in range(1, 7):\n",
    "        if pval_df[i][j] > psig:\n",
    "            corr_df[i][j] = 0\n",
    "corr_df"
   ]
  },
  {
   "cell_type": "code",
   "execution_count": null,
   "id": "60cbf2a9-c1ca-4ad2-9d6e-7a74f395acc6",
   "metadata": {},
   "outputs": [],
   "source": [
    "palette = sns.diverging_palette(20, 220, as_cmap=True)\n",
    "\n",
    "f, ax = plt.subplots(figsize=(7, 6))\n",
    "ax = sns.heatmap(\n",
    "    corr_df[corr_df!=0],\n",
    "    # vmin=-0.5, vmax=0.5, \n",
    "    cmap=palette,\n",
    "    square=True,\n",
    "    linewidths=11)\n",
    "    \n",
    "plt.xlabel(\"Signature\", fontsize=12)\n",
    "ax.tick_params(axis=\"both\", which=\"major\", labelsize=9)\n",
    "plt.savefig('../figures/correlation_matrix_tweak.pdf')"
   ]
  },
  {
   "cell_type": "code",
   "execution_count": null,
   "id": "37817730-5cad-4a6f-a457-30156655ac0e",
   "metadata": {},
   "outputs": [],
   "source": []
  }
 ],
 "metadata": {
  "kernelspec": {
   "display_name": "Python 3 (ipykernel)",
   "language": "python",
   "name": "python3"
  },
  "language_info": {
   "codemirror_mode": {
    "name": "ipython",
    "version": 3
   },
   "file_extension": ".py",
   "mimetype": "text/x-python",
   "name": "python",
   "nbconvert_exporter": "python",
   "pygments_lexer": "ipython3",
   "version": "3.10.4"
  }
 },
 "nbformat": 4,
 "nbformat_minor": 5
}
