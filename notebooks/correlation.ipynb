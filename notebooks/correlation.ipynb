{
 "cells": [
  {
   "cell_type": "code",
   "execution_count": 2,
   "id": "47ccb0f9-1791-473b-9a24-267b15cdeffd",
   "metadata": {},
   "outputs": [],
   "source": [
    "import pandas as pd"
   ]
  },
  {
   "cell_type": "code",
   "execution_count": 3,
   "id": "dbb6415a-332c-4db9-816b-94917774b129",
   "metadata": {},
   "outputs": [],
   "source": [
    "file = pd.read_table('../steps/discretized_9.features', dtype=str)"
   ]
  },
  {
   "cell_type": "code",
   "execution_count": 4,
   "id": "ff5df245-1f26-47dd-8265-3195f95841b8",
   "metadata": {},
   "outputs": [],
   "source": [
    "CIN = pd.read_table(\"/home/janneae/TCGA/DerivedData/PanCancer/ClinicalData/nsclc_tcga_broad_2016_clinical_data.tsv\")"
   ]
  },
  {
   "cell_type": "code",
   "execution_count": 7,
   "id": "43ec2380-bc89-460c-a05c-082116b91137",
   "metadata": {},
   "outputs": [
    {
     "data": {
      "text/plain": [
       "['Study ID',\n",
       " 'Patient ID',\n",
       " 'Sample ID',\n",
       " 'Diagnosis Age',\n",
       " 'Age At Surgery',\n",
       " 'Cancer Type',\n",
       " 'Cancer Type Detailed',\n",
       " 'Death from Initial Pathologic Diagnosis Date',\n",
       " 'Days to Last Followup',\n",
       " 'Fraction Genome Altered',\n",
       " 'Neoadjuvant Therapy Type Administered Prior To Resection Text',\n",
       " 'Prior Cancer Diagnosis Occurence',\n",
       " 'Mutation Count',\n",
       " 'M Stage',\n",
       " 'N Stage',\n",
       " 'Oncotree Code',\n",
       " 'Overall Survival (Months)',\n",
       " 'Overall Survival Status',\n",
       " 'Number of Samples Per Patient',\n",
       " 'Sex',\n",
       " 'Smoking History',\n",
       " 'Person Cigarette Smoking History Pack Year Value',\n",
       " 'Somatic Status',\n",
       " 'Stage',\n",
       " 'T Stage',\n",
       " 'Patients Vital Status']"
      ]
     },
     "execution_count": 7,
     "metadata": {},
     "output_type": "execute_result"
    }
   ],
   "source": [
    "CIN.columns.values.tolist()"
   ]
  },
  {
   "cell_type": "code",
   "execution_count": null,
   "id": "85a6ddab-a36a-43e3-b2ad-7a2e5b4cff7f",
   "metadata": {},
   "outputs": [],
   "source": []
  }
 ],
 "metadata": {
  "kernelspec": {
   "display_name": "Python 3 (ipykernel)",
   "language": "python",
   "name": "python3"
  },
  "language_info": {
   "codemirror_mode": {
    "name": "ipython",
    "version": 3
   },
   "file_extension": ".py",
   "mimetype": "text/x-python",
   "name": "python",
   "nbconvert_exporter": "python",
   "pygments_lexer": "ipython3",
   "version": "3.8.13"
  }
 },
 "nbformat": 4,
 "nbformat_minor": 5
}
