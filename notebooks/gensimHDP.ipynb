{
 "cells": [
  {
   "cell_type": "code",
   "execution_count": 1,
   "id": "0077125d-c0c8-4bdb-91e3-a6e11fde416d",
   "metadata": {},
   "outputs": [],
   "source": [
    "import pandas as pd\n",
    "import numpy as np\n",
    "import seaborn as sns\n",
    "from gensim.models import HdpModel\n",
    "from gensim import corpora\n",
    "sns.set_theme(style=\"whitegrid\")"
   ]
  },
  {
   "cell_type": "code",
   "execution_count": 11,
   "id": "d9a997d0-89e9-4c84-b596-964a5e7a338f",
   "metadata": {},
   "outputs": [],
   "source": [
    "def topic_prob_extractor(gensim_hdp):\n",
    "    shown_topics = gensim_hdp.show_topics(num_topics=gensim_hdp.m_T, formatted=False)\n",
    "    topics_nos = [x[0] for x in shown_topics ]\n",
    "    # weights = [ sum([item[1] for item in shown_topics[topicN][1]]) for topicN in topics_nos ]\n",
    "    alpha = gensim_hdp.hdp_to_lda()[0];\n",
    "    return pd.DataFrame({'topic_id' : topics_nos, 'alpha' : alpha})"
   ]
  },
  {
   "cell_type": "code",
   "execution_count": 3,
   "id": "867b545b-5533-4da6-a662-b6d708e3989e",
   "metadata": {},
   "outputs": [],
   "source": [
    "file = pd.read_table('~/cns/steps/discFeatures_10.txt', dtype=str)\n",
    "df = file.drop(['Sample', 'Chr'], axis = 1)\n",
    "listedDf = df.values.tolist()"
   ]
  },
  {
   "cell_type": "code",
   "execution_count": 4,
   "id": "38d34be3-f1b0-4f56-905c-f56f587ea8e9",
   "metadata": {},
   "outputs": [],
   "source": [
    "dirichlet_dict = corpora.Dictionary(listedDf)\n",
    "bow_corpus = [dirichlet_dict.doc2bow(text) for text in listedDf]"
   ]
  },
  {
   "cell_type": "code",
   "execution_count": 5,
   "id": "e510e8aa-f923-48ba-9f22-83c7db4f56bc",
   "metadata": {},
   "outputs": [],
   "source": [
    "hdp_model = HdpModel(corpus=bow_corpus, id2word=dirichlet_dict)"
   ]
  },
  {
   "cell_type": "code",
   "execution_count": 13,
   "id": "198ba582-d038-4ce0-8110-ff4731161a9e",
   "metadata": {},
   "outputs": [],
   "source": [
    "topic_prob = topic_prob_extractor(hdp_model)"
   ]
  },
  {
   "cell_type": "code",
   "execution_count": 15,
   "id": "3deeaaee-db1b-44ce-82cd-4b29cde6d8c7",
   "metadata": {},
   "outputs": [
    {
     "data": {
      "text/plain": [
       "[(1.0, 25.0)]"
      ]
     },
     "execution_count": 15,
     "metadata": {},
     "output_type": "execute_result"
    },
    {
     "data": {
      "image/png": "[encoded data removed]",
      "text/plain": [
       "<Figure size 432x288 with 1 Axes>"
      ]
     },
     "metadata": {},
     "output_type": "display_data"
    }
   ],
   "source": [
    "g = sns.barplot(x=\"topic_id\", y=\"alpha\" , data=topic_prob)\n",
    "g.set(xlim=(1, 25))"
   ]
  },
  {
   "cell_type": "code",
   "execution_count": 8,
   "id": "aa810002-2807-4880-9a68-d370d4ec2e25",
   "metadata": {},
   "outputs": [
    {
     "data": {
      "text/plain": [
       "[(0, '0.329*1 + 0.201*4 + 0.198*5 + 0.116*6 + 0.064*3 + 0.051*2 + 0.040*0'),\n",
       " (1, '0.272*3 + 0.171*4 + 0.160*5 + 0.157*1 + 0.125*2 + 0.057*0 + 0.057*6'),\n",
       " (2, '0.280*2 + 0.224*5 + 0.148*6 + 0.135*3 + 0.103*4 + 0.059*1 + 0.051*0'),\n",
       " (3, '0.314*5 + 0.161*4 + 0.137*3 + 0.131*1 + 0.104*6 + 0.085*0 + 0.067*2'),\n",
       " (4, '0.298*4 + 0.158*5 + 0.149*2 + 0.146*3 + 0.138*0 + 0.069*1 + 0.042*6'),\n",
       " (5, '0.282*6 + 0.191*2 + 0.140*5 + 0.131*4 + 0.109*1 + 0.086*0 + 0.060*3'),\n",
       " (6, '0.236*2 + 0.206*5 + 0.139*1 + 0.124*4 + 0.117*3 + 0.115*6 + 0.063*0'),\n",
       " (7, '0.358*1 + 0.194*4 + 0.116*2 + 0.115*5 + 0.085*3 + 0.077*6 + 0.055*0'),\n",
       " (8, '0.294*4 + 0.146*3 + 0.137*1 + 0.124*6 + 0.106*2 + 0.105*0 + 0.088*5'),\n",
       " (9, '0.368*2 + 0.172*4 + 0.126*3 + 0.111*0 + 0.084*1 + 0.071*5 + 0.069*6'),\n",
       " (10, '0.270*6 + 0.202*1 + 0.180*5 + 0.122*2 + 0.101*4 + 0.080*3 + 0.044*0'),\n",
       " (11, '0.215*3 + 0.197*2 + 0.150*4 + 0.141*1 + 0.131*5 + 0.094*0 + 0.072*6'),\n",
       " (12, '0.228*6 + 0.215*4 + 0.136*3 + 0.129*0 + 0.111*2 + 0.091*1 + 0.090*5'),\n",
       " (13, '0.234*2 + 0.171*3 + 0.171*5 + 0.148*0 + 0.101*6 + 0.098*4 + 0.076*1'),\n",
       " (14, '0.243*0 + 0.199*5 + 0.195*2 + 0.142*4 + 0.097*3 + 0.066*1 + 0.057*6')]"
      ]
     },
     "execution_count": 8,
     "metadata": {},
     "output_type": "execute_result"
    }
   ],
   "source": [
    "topic_info = hdp_model.print_topics(num_topics=15, num_words=10)\n",
    "topic_info"
   ]
  },
  {
   "cell_type": "code",
   "execution_count": 9,
   "id": "278fe1ce-e87e-4f22-9eef-6ac6cf0f8fd9",
   "metadata": {},
   "outputs": [
    {
     "data": {
      "text/plain": [
       "[('4', 0.2983106972165041),\n",
       " ('5', 0.15812960272397608),\n",
       " ('2', 0.14922613158370757),\n",
       " ('3', 0.14585631785576994),\n",
       " ('0', 0.13781966155982323),\n",
       " ('1', 0.06896446735134851),\n",
       " ('6', 0.0416931217088705)]"
      ]
     },
     "execution_count": 9,
     "metadata": {},
     "output_type": "execute_result"
    }
   ],
   "source": [
    "hdp_model.show_topic(4, topn=20, log=False, formatted=False, num_words=None)"
   ]
  },
  {
   "cell_type": "code",
   "execution_count": null,
   "id": "3d92148c-b8e9-495f-b113-cbc464ae59b7",
   "metadata": {},
   "outputs": [],
   "source": []
  }
 ],
 "metadata": {
  "kernelspec": {
   "display_name": "Python 3 (ipykernel)",
   "language": "python",
   "name": "python3"
  },
  "language_info": {
   "codemirror_mode": {
    "name": "ipython",
    "version": 3
   },
   "file_extension": ".py",
   "mimetype": "text/x-python",
   "name": "python",
   "nbconvert_exporter": "python",
   "pygments_lexer": "ipython3",
   "version": "3.8.12"
  }
 },
 "nbformat": 4,
 "nbformat_minor": 5
}
