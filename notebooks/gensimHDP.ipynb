{
 "cells": [
  {
   "cell_type": "code",
   "execution_count": 1,
   "id": "0077125d-c0c8-4bdb-91e3-a6e11fde416d",
   "metadata": {},
   "outputs": [],
   "source": [
    "import pandas as pd\n",
    "from gensim.models import HdpModel\n",
    "from gensim import corpora\n",
    "import argparse"
   ]
  },
  {
   "cell_type": "code",
   "execution_count": 6,
   "id": "d9a997d0-89e9-4c84-b596-964a5e7a338f",
   "metadata": {},
   "outputs": [],
   "source": [
    "def topic_prob_extractor(gensim_hdp):\n",
    "    shown_topics = gensim_hdp.show_topics(num_topics=-1, formatted=False)\n",
    "    topics_nos = [x[0] for x in shown_topics ]\n",
    "    weights = [ sum([item[1] for item in shown_topics[topicN][1]]) for topicN in topics_nos ]\n",
    "\n",
    "    return pd.DataFrame({'topic_id' : topics_nos, 'weight' : weights})"
   ]
  },
  {
   "cell_type": "code",
   "execution_count": 2,
   "id": "867b545b-5533-4da6-a662-b6d708e3989e",
   "metadata": {},
   "outputs": [],
   "source": [
    "file = pd.read_table('~/cns/steps/discFeatures_10.txt', dtype=str)\n",
    "df = file.drop(['Sample', 'Chr'], axis = 1)\n",
    "listedDf = df.values.tolist()"
   ]
  },
  {
   "cell_type": "code",
   "execution_count": 3,
   "id": "38d34be3-f1b0-4f56-905c-f56f587ea8e9",
   "metadata": {},
   "outputs": [],
   "source": [
    "dirichlet_dict = corpora.Dictionary(listedDf)\n",
    "bow_corpus = [dirichlet_dict.doc2bow(text) for text in listedDf]"
   ]
  },
  {
   "cell_type": "code",
   "execution_count": 4,
   "id": "e510e8aa-f923-48ba-9f22-83c7db4f56bc",
   "metadata": {},
   "outputs": [],
   "source": [
    "hdp_model = HdpModel(corpus=bow_corpus, id2word=dirichlet_dict)"
   ]
  },
  {
   "cell_type": "code",
   "execution_count": 7,
   "id": "198ba582-d038-4ce0-8110-ff4731161a9e",
   "metadata": {},
   "outputs": [
    {
     "data": {
      "text/html": [
       "<div>\n",
       "<style scoped>\n",
       "    .dataframe tbody tr th:only-of-type {\n",
       "        vertical-align: middle;\n",
       "    }\n",
       "\n",
       "    .dataframe tbody tr th {\n",
       "        vertical-align: top;\n",
       "    }\n",
       "\n",
       "    .dataframe thead th {\n",
       "        text-align: right;\n",
       "    }\n",
       "</style>\n",
       "<table border=\"1\" class=\"dataframe\">\n",
       "  <thead>\n",
       "    <tr style=\"text-align: right;\">\n",
       "      <th></th>\n",
       "      <th>topic_id</th>\n",
       "      <th>weight</th>\n",
       "    </tr>\n",
       "  </thead>\n",
       "  <tbody>\n",
       "  </tbody>\n",
       "</table>\n",
       "</div>"
      ],
      "text/plain": [
       "Empty DataFrame\n",
       "Columns: [topic_id, weight]\n",
       "Index: []"
      ]
     },
     "execution_count": 7,
     "metadata": {},
     "output_type": "execute_result"
    }
   ],
   "source": [
    "topic_prob_extractor(hdp_model)"
   ]
  },
  {
   "cell_type": "code",
   "execution_count": 8,
   "id": "aa810002-2807-4880-9a68-d370d4ec2e25",
   "metadata": {},
   "outputs": [
    {
     "data": {
      "text/plain": [
       "[]"
      ]
     },
     "execution_count": 8,
     "metadata": {},
     "output_type": "execute_result"
    }
   ],
   "source": [
    "hdp_model.show_topics(num_topics=-1, formatted=False)"
   ]
  },
  {
   "cell_type": "code",
   "execution_count": 9,
   "id": "278fe1ce-e87e-4f22-9eef-6ac6cf0f8fd9",
   "metadata": {},
   "outputs": [
    {
     "data": {
      "text/plain": [
       "[(0, '0.242*1 + 0.168*4 + 0.165*5 + 0.147*3 + 0.109*0 + 0.108*2 + 0.060*6'),\n",
       " (1, '0.203*0 + 0.180*6 + 0.143*5 + 0.135*2 + 0.134*1 + 0.110*4 + 0.095*3'),\n",
       " (2, '0.219*1 + 0.202*4 + 0.146*5 + 0.141*3 + 0.137*0 + 0.105*2 + 0.049*6'),\n",
       " (3, '0.229*5 + 0.210*1 + 0.197*2 + 0.189*3 + 0.074*6 + 0.062*4 + 0.038*0'),\n",
       " (4, '0.209*2 + 0.190*1 + 0.154*5 + 0.127*4 + 0.126*3 + 0.123*0 + 0.071*6'),\n",
       " (5, '0.362*4 + 0.200*2 + 0.126*5 + 0.104*6 + 0.083*3 + 0.069*1 + 0.056*0'),\n",
       " (6, '0.424*2 + 0.154*6 + 0.132*3 + 0.083*5 + 0.078*1 + 0.064*0 + 0.064*4'),\n",
       " (7, '0.232*3 + 0.228*5 + 0.166*2 + 0.157*4 + 0.088*1 + 0.073*0 + 0.056*6'),\n",
       " (8, '0.218*2 + 0.200*4 + 0.186*5 + 0.143*1 + 0.122*0 + 0.071*3 + 0.060*6'),\n",
       " (9, '0.312*3 + 0.218*4 + 0.126*2 + 0.124*6 + 0.086*0 + 0.068*5 + 0.065*1'),\n",
       " (10, '0.358*2 + 0.179*4 + 0.135*3 + 0.110*6 + 0.080*5 + 0.071*0 + 0.067*1'),\n",
       " (11, '0.221*3 + 0.184*5 + 0.152*2 + 0.142*6 + 0.133*4 + 0.095*0 + 0.073*1'),\n",
       " (12, '0.226*0 + 0.196*4 + 0.164*3 + 0.151*5 + 0.129*1 + 0.077*2 + 0.057*6'),\n",
       " (13, '0.203*2 + 0.186*3 + 0.180*4 + 0.164*1 + 0.098*5 + 0.093*6 + 0.075*0'),\n",
       " (14, '0.310*5 + 0.156*4 + 0.155*3 + 0.152*2 + 0.120*0 + 0.063*1 + 0.044*6'),\n",
       " (15, '0.234*4 + 0.169*5 + 0.166*3 + 0.165*2 + 0.133*1 + 0.069*6 + 0.064*0'),\n",
       " (16, '0.289*1 + 0.198*0 + 0.148*5 + 0.114*3 + 0.097*2 + 0.087*4 + 0.066*6'),\n",
       " (17, '0.330*3 + 0.176*5 + 0.161*6 + 0.129*2 + 0.089*0 + 0.059*4 + 0.056*1'),\n",
       " (18, '0.273*4 + 0.143*2 + 0.125*1 + 0.123*5 + 0.117*6 + 0.112*0 + 0.107*3'),\n",
       " (19, '0.227*5 + 0.169*1 + 0.160*2 + 0.136*4 + 0.127*6 + 0.123*3 + 0.059*0')]"
      ]
     },
     "execution_count": 9,
     "metadata": {},
     "output_type": "execute_result"
    }
   ],
   "source": [
    "hdp_model.print_topics(num_topics=20, num_words=10)"
   ]
  }
 ],
 "metadata": {
  "kernelspec": {
   "display_name": "Python 3 (ipykernel)",
   "language": "python",
   "name": "python3"
  },
  "language_info": {
   "codemirror_mode": {
    "name": "ipython",
    "version": 3
   },
   "file_extension": ".py",
   "mimetype": "text/x-python",
   "name": "python",
   "nbconvert_exporter": "python",
   "pygments_lexer": "ipython3",
   "version": "3.8.12"
  }
 },
 "nbformat": 4,
 "nbformat_minor": 5
}
