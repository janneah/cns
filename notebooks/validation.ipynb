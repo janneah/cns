{
 "cells": [
  {
   "cell_type": "code",
   "execution_count": 1,
   "id": "4f8e00ca-f4b1-46dd-8165-8de036f10a4e",
   "metadata": {},
   "outputs": [],
   "source": [
    "import pandas as pd\n",
    "import numpy as np\n",
    "from gensim.models import LdaModel, CoherenceModel\n",
    "from gensim import corpora\n",
    "import seaborn as sns\n",
    "import matplotlib.pylab as plt"
   ]
  },
  {
   "cell_type": "code",
   "execution_count": 4,
   "id": "56683c1a-809d-4734-b9c5-99752535fcfc",
   "metadata": {},
   "outputs": [],
   "source": [
    "file = pd.read_table('/home/janneae/cns/steps/discretized_9_6bins.features', dtype=str)\n",
    "raw = pd.read_table('/home/janneae/cns/data/filteredAscatRaw.txt')"
   ]
  },
  {
   "cell_type": "code",
   "execution_count": 3,
   "id": "6859bcf0-9e17-436f-9e3e-83dd5af67dc4",
   "metadata": {},
   "outputs": [],
   "source": [
    "lda = LdaModel.load(f'../steps/gensim/lda/lda_t5_f10.model')\n",
    "df = file.drop(['Sample', 'Chr'], axis = 1)\n",
    "listedDf = df.values.tolist()\n",
    "dirichlet_dict = corpora.Dictionary(listedDf)\n",
    "bow_corpus = [dirichlet_dict.doc2bow(text) for text in listedDf]"
   ]
  },
  {
   "cell_type": "markdown",
   "id": "18de31cc-2649-4271-8fe7-f3d4a6ce8459",
   "metadata": {},
   "source": [
    "## Validation of model on remaining 30%file"
   ]
  },
  {
   "cell_type": "code",
   "execution_count": 13,
   "id": "fa086002-c0a7-45a2-be73-529a07efb1fe",
   "metadata": {
    "tags": []
   },
   "outputs": [],
   "source": [
    "samples70 = list(file['Sample'].unique())"
   ]
  },
  {
   "cell_type": "code",
   "execution_count": 14,
   "id": "cd03ad58-4940-4160-a804-ec89becfa261",
   "metadata": {},
   "outputs": [],
   "source": [
    "samples30 = raw[~raw['ID'].isin(samples70)]"
   ]
  },
  {
   "cell_type": "code",
   "execution_count": 21,
   "id": "1c68659b-8c9d-413a-8b22-e81eebf9bd81",
   "metadata": {},
   "outputs": [],
   "source": [
    "samples30.to_csv('../steps/sampled_0.3.ascat', header=True, index=False, sep=\"\\t\")"
   ]
  },
  {
   "cell_type": "code",
   "execution_count": null,
   "id": "e7ac4b80-144c-4167-9a07-bf6b3f716b74",
   "metadata": {},
   "outputs": [],
   "source": []
  }
 ],
 "metadata": {
  "kernelspec": {
   "display_name": "Python 3 (ipykernel)",
   "language": "python",
   "name": "python3"
  },
  "language_info": {
   "codemirror_mode": {
    "name": "ipython",
    "version": 3
   },
   "file_extension": ".py",
   "mimetype": "text/x-python",
   "name": "python",
   "nbconvert_exporter": "python",
   "pygments_lexer": "ipython3",
   "version": "3.10.4"
  }
 },
 "nbformat": 4,
 "nbformat_minor": 5
}
