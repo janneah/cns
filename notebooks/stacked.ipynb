{
 "cells": [
  {
   "cell_type": "code",
   "execution_count": 1,
   "id": "383a9c46-3b7c-4055-9c62-f52b64462392",
   "metadata": {},
   "outputs": [],
   "source": [
    "import pandas as pd\n",
    "import numpy as np\n",
    "import seaborn as sns\n",
    "import matplotlib.pylab as plt\n",
    "from gensim.models import LdaModel, CoherenceModel\n",
    "from gensim import corpora\n",
    "from scipy import stats as st"
   ]
  },
  {
   "cell_type": "code",
   "execution_count": 2,
   "id": "b81d423f-6796-426f-ab20-5168281cb39d",
   "metadata": {},
   "outputs": [
    {
     "name": "stderr",
     "output_type": "stream",
     "text": [
      "/scratch/64055646/ipykernel_8606/4241139062.py:1: DtypeWarning: Columns (4) have mixed types. Specify dtype option on import or set low_memory=False.\n",
      "  mutations = pd.read_table('../data/all_muts_pass_and_polyphen.txt', sep=' ')\n"
     ]
    }
   ],
   "source": [
    "mutations = pd.read_table('../data/all_muts_pass_and_polyphen.txt', sep=' ')\n",
    "gene_exp = pd.read_table('../data/all_tcga_gene_exp.txt', sep='\\t')\n",
    "maf = pd.read_table('../data/all_tcga_maf.txt', sep=' ')\n",
    "cin_loc = pd.read_table('../data/cin_locations.txt')\n",
    "sanchez_vega = pd.read_table('../data/sanchez_vega_pws_1026.csv', sep=';')"
   ]
  },
  {
   "cell_type": "code",
   "execution_count": 3,
   "id": "8b5e2601-7d5a-4d0d-b07b-9ec838f7e592",
   "metadata": {},
   "outputs": [],
   "source": [
    "file = pd.read_table('../steps/discretized_9_6bins.features', dtype=str)"
   ]
  },
  {
   "cell_type": "code",
   "execution_count": 4,
   "id": "2292624e-9111-4cbb-a86e-52e570017abf",
   "metadata": {},
   "outputs": [],
   "source": [
    "lda = LdaModel.load(f'../steps/gensim/lda/lda_t5_f10.model')\n",
    "df = file.drop(['Sample', 'Chr'], axis = 1)\n",
    "listedDf = df.values.tolist()\n",
    "dirichlet_dict = corpora.Dictionary(listedDf)\n",
    "bow_corpus = [dirichlet_dict.doc2bow(text) for text in listedDf]"
   ]
  },
  {
   "cell_type": "code",
   "execution_count": 5,
   "id": "3d0a7644-e807-43b8-8deb-9f2855595aa0",
   "metadata": {},
   "outputs": [],
   "source": [
    "def create_heatmap(model, df):\n",
    "    topics = lda.get_document_topics(bow = bow_corpus, minimum_probability = 0)\n",
    "    \n",
    "    new_df = pd.DataFrame(df['Sample'])\n",
    "    new_df['Chr'] = df['Chr']\n",
    "    new_df['Chr'] = pd.to_numeric(new_df['Chr'])\n",
    "    \n",
    "    columns = [[],[],[],[],[]]\n",
    "    for topic in topics:\n",
    "        for w in topic:\n",
    "            columns[w[0]].append(w[1])\n",
    "    \n",
    "    new_df['1'] = columns[0]\n",
    "    new_df['2'] = columns[1]\n",
    "    new_df['3'] = columns[2]\n",
    "    new_df['4'] = columns[3]\n",
    "    new_df['5'] = columns[4]\n",
    "    new_df = new_df.sort_values(by='Chr')\n",
    "    return new_df\n"
   ]
  },
  {
   "cell_type": "code",
   "execution_count": null,
   "id": "9835a662-1322-4592-84a1-d5931745d908",
   "metadata": {},
   "outputs": [],
   "source": [
    "weights_df = create_heatmap(lda, file)"
   ]
  },
  {
   "cell_type": "code",
   "execution_count": null,
   "id": "fc80ccc9-16a8-4d51-9fef-f239d535179b",
   "metadata": {},
   "outputs": [],
   "source": [
    "mut = weights_df.reset_index(drop=True)\n",
    "mut = mut.rename(columns = {'Sample': 'sampleID'})\n",
    "mut= mut.drop_duplicates(subset = [\"sampleID\"])\n",
    "mut = pd.merge(left = mut, right = maf[['sampleID', 'mutatated_genes']], on='sampleID')\n",
    "\n",
    "gene_list = ['TP53', 'PTEN', 'NF1', 'MYC', 'CDK12', 'CCNE1', 'BRCA2', 'BRCA1']\n",
    "# gene_list = list(cin_loc['Gene'])\n",
    "\n",
    "for gene in gene_list:\n",
    "    mut[gene] = np.where(mut['mutatated_genes'].str.contains(gene), True, False)\n",
    "\n",
    "\n",
    "mut"
   ]
  },
  {
   "cell_type": "code",
   "execution_count": null,
   "id": "aed280b6-bc7e-4e6b-8e73-fae185855755",
   "metadata": {},
   "outputs": [],
   "source": [
    "gene_expT = gene_exp.transpose()\n",
    "gene_expT['Sample'] = gene_expT.index\n",
    "gene_expT"
   ]
  },
  {
   "cell_type": "code",
   "execution_count": null,
   "id": "03268d49-7bed-478d-bb23-7e8ce5c850d9",
   "metadata": {},
   "outputs": [],
   "source": [
    "exp = weights_df.reset_index(drop=True).drop(['Chr'], axis = 1).drop_duplicates(subset = [\"Sample\"])\n",
    "exp.columns = ['Sample', 'Sig1', 'Sig2', 'Sig3', 'Sig4', 'Sig5']\n",
    "exp = pd.merge(left = exp, right = gene_expT, on = 'Sample')"
   ]
  },
  {
   "cell_type": "code",
   "execution_count": null,
   "id": "ab7d996e-efb6-4224-8378-814ad3facf61",
   "metadata": {},
   "outputs": [],
   "source": [
    "exp.index = exp['Sample']\n",
    "exp = exp.drop(['Sample'], axis = 1)\n",
    "exp"
   ]
  },
  {
   "cell_type": "code",
   "execution_count": null,
   "id": "52ce27fd-231f-4164-8364-3b6b0abc7720",
   "metadata": {},
   "outputs": [],
   "source": [
    "exp_final = exp.drop(['Sig1', 'Sig2', 'Sig3', 'Sig4', 'Sig5'], axis = 1)\n",
    "exp_final"
   ]
  },
  {
   "cell_type": "code",
   "execution_count": null,
   "id": "22013324-29f2-40cd-802e-a9585d66048c",
   "metadata": {
    "tags": []
   },
   "outputs": [],
   "source": [
    "correlation_df = pd.DataFrame(columns=exp_final.columns, index=['Signature_1', 'Signature_2', 'Signature_3', 'Signature_4', 'Signature_5'])\n",
    "\n",
    "for signature in range(1, 6):\n",
    "    for gene in correlation_df.columns:\n",
    "        correlation_df[gene][f'Signature_{signature}'] = st.pearsonr(exp[f'Sig{signature}'], exp_final[gene])[0]"
   ]
  },
  {
   "cell_type": "code",
   "execution_count": null,
   "id": "f6153548-dbac-4d53-b4a1-325653c3d1a6",
   "metadata": {
    "tags": []
   },
   "outputs": [],
   "source": [
    "correlation_df"
   ]
  },
  {
   "cell_type": "code",
   "execution_count": null,
   "id": "7904568d-d756-4e0b-8e90-fb9ac14d739f",
   "metadata": {},
   "outputs": [],
   "source": [
    "correlation_df.to_csv(\"/home/janneae/cns/steps/allgenes.correlation\", header=True, index=None, sep='\\t')"
   ]
  },
  {
   "cell_type": "code",
   "execution_count": 14,
   "id": "cbd54219-a7f8-439d-8c27-134ae684d794",
   "metadata": {},
   "outputs": [
    {
     "name": "stderr",
     "output_type": "stream",
     "text": [
      "/home/janneae/miniconda3/envs/cns/lib/python3.10/site-packages/scipy/stats/_stats_py.py:4068: PearsonRConstantInputWarning: An input array is constant; the correlation coefficient is not defined.\n",
      "  warnings.warn(PearsonRConstantInputWarning())\n"
     ]
    },
    {
     "data": {
      "text/html": [
       "<div>\n",
       "<style scoped>\n",
       "    .dataframe tbody tr th:only-of-type {\n",
       "        vertical-align: middle;\n",
       "    }\n",
       "\n",
       "    .dataframe tbody tr th {\n",
       "        vertical-align: top;\n",
       "    }\n",
       "\n",
       "    .dataframe thead th {\n",
       "        text-align: right;\n",
       "    }\n",
       "</style>\n",
       "<table border=\"1\" class=\"dataframe\">\n",
       "  <thead>\n",
       "    <tr style=\"text-align: right;\">\n",
       "      <th></th>\n",
       "      <th>TSPAN6</th>\n",
       "      <th>TNMD</th>\n",
       "      <th>DPM1</th>\n",
       "      <th>SCYL3</th>\n",
       "      <th>C1orf112</th>\n",
       "      <th>FGR</th>\n",
       "      <th>CFH</th>\n",
       "      <th>FUCA2</th>\n",
       "      <th>GCLC</th>\n",
       "      <th>NFYA</th>\n",
       "      <th>...</th>\n",
       "      <th>PRAMEF26</th>\n",
       "      <th>OR8K3</th>\n",
       "      <th>CCDC163</th>\n",
       "      <th>PAGR1</th>\n",
       "      <th>RPS4Y2</th>\n",
       "      <th>TMEM265</th>\n",
       "      <th>TEX13D</th>\n",
       "      <th>ADORA3</th>\n",
       "      <th>DUXB</th>\n",
       "      <th>TEX13C</th>\n",
       "    </tr>\n",
       "  </thead>\n",
       "  <tbody>\n",
       "    <tr>\n",
       "      <th>Signature_1</th>\n",
       "      <td>0.012675</td>\n",
       "      <td>0.596771</td>\n",
       "      <td>0.895017</td>\n",
       "      <td>0.0</td>\n",
       "      <td>0.0</td>\n",
       "      <td>0.000047</td>\n",
       "      <td>0.0</td>\n",
       "      <td>0.801595</td>\n",
       "      <td>0.01378</td>\n",
       "      <td>0.001094</td>\n",
       "      <td>...</td>\n",
       "      <td>0.836763</td>\n",
       "      <td>0.47595</td>\n",
       "      <td>0.02764</td>\n",
       "      <td>0.425968</td>\n",
       "      <td>0.000389</td>\n",
       "      <td>0.321777</td>\n",
       "      <td>0.31657</td>\n",
       "      <td>0.00152</td>\n",
       "      <td>0.730535</td>\n",
       "      <td>0.157969</td>\n",
       "    </tr>\n",
       "    <tr>\n",
       "      <th>Signature_2</th>\n",
       "      <td>0.000136</td>\n",
       "      <td>0.000018</td>\n",
       "      <td>0.0</td>\n",
       "      <td>0.000008</td>\n",
       "      <td>0.0</td>\n",
       "      <td>0.0</td>\n",
       "      <td>0.005375</td>\n",
       "      <td>0.0</td>\n",
       "      <td>0.68693</td>\n",
       "      <td>0.0</td>\n",
       "      <td>...</td>\n",
       "      <td>0.0</td>\n",
       "      <td>0.000022</td>\n",
       "      <td>0.003073</td>\n",
       "      <td>0.000009</td>\n",
       "      <td>0.000035</td>\n",
       "      <td>0.444398</td>\n",
       "      <td>0.001043</td>\n",
       "      <td>0.0</td>\n",
       "      <td>0.000358</td>\n",
       "      <td>0.0</td>\n",
       "    </tr>\n",
       "    <tr>\n",
       "      <th>Signature_3</th>\n",
       "      <td>0.208807</td>\n",
       "      <td>0.000005</td>\n",
       "      <td>0.0</td>\n",
       "      <td>0.001808</td>\n",
       "      <td>0.0</td>\n",
       "      <td>0.0</td>\n",
       "      <td>0.000008</td>\n",
       "      <td>0.93283</td>\n",
       "      <td>0.014726</td>\n",
       "      <td>0.000002</td>\n",
       "      <td>...</td>\n",
       "      <td>0.000184</td>\n",
       "      <td>0.000037</td>\n",
       "      <td>0.000148</td>\n",
       "      <td>0.000036</td>\n",
       "      <td>0.118924</td>\n",
       "      <td>0.164947</td>\n",
       "      <td>0.000974</td>\n",
       "      <td>0.0</td>\n",
       "      <td>0.023596</td>\n",
       "      <td>0.000233</td>\n",
       "    </tr>\n",
       "    <tr>\n",
       "      <th>Signature_4</th>\n",
       "      <td>0.000002</td>\n",
       "      <td>0.515798</td>\n",
       "      <td>0.0</td>\n",
       "      <td>0.0</td>\n",
       "      <td>0.0</td>\n",
       "      <td>0.782455</td>\n",
       "      <td>0.0</td>\n",
       "      <td>0.0</td>\n",
       "      <td>0.474494</td>\n",
       "      <td>0.0</td>\n",
       "      <td>...</td>\n",
       "      <td>0.00203</td>\n",
       "      <td>0.031812</td>\n",
       "      <td>0.088751</td>\n",
       "      <td>0.042044</td>\n",
       "      <td>0.0</td>\n",
       "      <td>0.018021</td>\n",
       "      <td>0.11278</td>\n",
       "      <td>0.522934</td>\n",
       "      <td>0.130458</td>\n",
       "      <td>0.000017</td>\n",
       "    </tr>\n",
       "    <tr>\n",
       "      <th>Signature_5</th>\n",
       "      <td>0.001759</td>\n",
       "      <td>0.826763</td>\n",
       "      <td>0.000086</td>\n",
       "      <td>0.0</td>\n",
       "      <td>0.0</td>\n",
       "      <td>0.186261</td>\n",
       "      <td>0.000137</td>\n",
       "      <td>0.009384</td>\n",
       "      <td>0.714224</td>\n",
       "      <td>0.000004</td>\n",
       "      <td>...</td>\n",
       "      <td>0.042369</td>\n",
       "      <td>0.86862</td>\n",
       "      <td>0.008071</td>\n",
       "      <td>0.105247</td>\n",
       "      <td>0.867442</td>\n",
       "      <td>0.069017</td>\n",
       "      <td>0.109953</td>\n",
       "      <td>0.659048</td>\n",
       "      <td>0.149203</td>\n",
       "      <td>0.616586</td>\n",
       "    </tr>\n",
       "  </tbody>\n",
       "</table>\n",
       "<p>5 rows × 18367 columns</p>\n",
       "</div>"
      ],
      "text/plain": [
       "               TSPAN6      TNMD      DPM1     SCYL3 C1orf112       FGR  \\\n",
       "Signature_1  0.012675  0.596771  0.895017       0.0      0.0  0.000047   \n",
       "Signature_2  0.000136  0.000018       0.0  0.000008      0.0       0.0   \n",
       "Signature_3  0.208807  0.000005       0.0  0.001808      0.0       0.0   \n",
       "Signature_4  0.000002  0.515798       0.0       0.0      0.0  0.782455   \n",
       "Signature_5  0.001759  0.826763  0.000086       0.0      0.0  0.186261   \n",
       "\n",
       "                  CFH     FUCA2      GCLC      NFYA  ...  PRAMEF26     OR8K3  \\\n",
       "Signature_1       0.0  0.801595   0.01378  0.001094  ...  0.836763   0.47595   \n",
       "Signature_2  0.005375       0.0   0.68693       0.0  ...       0.0  0.000022   \n",
       "Signature_3  0.000008   0.93283  0.014726  0.000002  ...  0.000184  0.000037   \n",
       "Signature_4       0.0       0.0  0.474494       0.0  ...   0.00203  0.031812   \n",
       "Signature_5  0.000137  0.009384  0.714224  0.000004  ...  0.042369   0.86862   \n",
       "\n",
       "              CCDC163     PAGR1    RPS4Y2   TMEM265    TEX13D    ADORA3  \\\n",
       "Signature_1   0.02764  0.425968  0.000389  0.321777   0.31657   0.00152   \n",
       "Signature_2  0.003073  0.000009  0.000035  0.444398  0.001043       0.0   \n",
       "Signature_3  0.000148  0.000036  0.118924  0.164947  0.000974       0.0   \n",
       "Signature_4  0.088751  0.042044       0.0  0.018021   0.11278  0.522934   \n",
       "Signature_5  0.008071  0.105247  0.867442  0.069017  0.109953  0.659048   \n",
       "\n",
       "                 DUXB    TEX13C  \n",
       "Signature_1  0.730535  0.157969  \n",
       "Signature_2  0.000358       0.0  \n",
       "Signature_3  0.023596  0.000233  \n",
       "Signature_4  0.130458  0.000017  \n",
       "Signature_5  0.149203  0.616586  \n",
       "\n",
       "[5 rows x 18367 columns]"
      ]
     },
     "execution_count": 14,
     "metadata": {},
     "output_type": "execute_result"
    }
   ],
   "source": [
    "pval_df = pd.DataFrame(columns=exp_final.columns, index=['Signature_1', 'Signature_2', 'Signature_3', 'Signature_4', 'Signature_5'])\n",
    "\n",
    "for signature in range(1, 6):\n",
    "    for gene in pval_df.columns:\n",
    "        pval_df[gene][f'Signature_{signature}'] = st.pearsonr(exp[f'Sig{signature}'], exp_final[gene])[1]\n",
    "pval_df"
   ]
  },
  {
   "cell_type": "code",
   "execution_count": null,
   "id": "b3832a31-cc92-42bc-a4d5-73903afa01df",
   "metadata": {},
   "outputs": [],
   "source": []
  }
 ],
 "metadata": {
  "kernelspec": {
   "display_name": "Python 3 (ipykernel)",
   "language": "python",
   "name": "python3"
  },
  "language_info": {
   "codemirror_mode": {
    "name": "ipython",
    "version": 3
   },
   "file_extension": ".py",
   "mimetype": "text/x-python",
   "name": "python",
   "nbconvert_exporter": "python",
   "pygments_lexer": "ipython3",
   "version": "3.10.4"
  }
 },
 "nbformat": 4,
 "nbformat_minor": 5
}
